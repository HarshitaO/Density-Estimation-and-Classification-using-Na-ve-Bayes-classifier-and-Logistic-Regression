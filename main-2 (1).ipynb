{
  "nbformat": 4,
  "nbformat_minor": 0,
  "metadata": {
    "colab": {
      "name": "main (1).ipynb",
      "provenance": [],
      "collapsed_sections": []
    },
    "kernelspec": {
      "name": "python3",
      "display_name": "Python 3"
    }
  },
  "cells": [
    {
      "cell_type": "code",
      "metadata": {
        "id": "GZO00tl7y4kk"
      },
      "source": [
        "#packages\r\n",
        "import scipy.io\r\n",
        "import math\r\n",
        "import numpy as np\r\n",
        "import pandas as pd\r\n",
        "from sklearn.metrics import accuracy_score\r\n",
        "from sklearn.metrics import confusion_matrix"
      ],
      "execution_count": 1,
      "outputs": []
    },
    {
      "cell_type": "code",
      "metadata": {
        "id": "u4Kavpe24k6m"
      },
      "source": [
        "#loading data\r\n",
        "data = scipy.io.loadmat(\"fashion_mnist.mat\") "
      ],
      "execution_count": 2,
      "outputs": []
    },
    {
      "cell_type": "markdown",
      "metadata": {
        "id": "G3yww1gZmv3F"
      },
      "source": [
        "NAIVE BAYES"
      ]
    },
    {
      "cell_type": "code",
      "metadata": {
        "id": "SdNvtbwg4l2V"
      },
      "source": [
        "#loading train data\r\n",
        "xtraind = data['trX']\r\n",
        "ytraind = data['trY'] "
      ],
      "execution_count": 3,
      "outputs": []
    },
    {
      "cell_type": "code",
      "metadata": {
        "id": "pz4BYHdI7tO3"
      },
      "source": [
        "#computing mean and standard deviation\r\n",
        "xtraind_df = pd.DataFrame(xtraind)\r\n",
        "xdata = {'mean': xtraind_df.mean(axis=1), 'std' : xtraind_df.std(axis=1)}\r\n",
        "xdata_f = pd.DataFrame(xdata)"
      ],
      "execution_count": 4,
      "outputs": []
    },
    {
      "cell_type": "code",
      "metadata": {
        "id": "KyrMz_O6U4t4"
      },
      "source": [
        "ytraind_df = pd.DataFrame(ytraind)"
      ],
      "execution_count": 5,
      "outputs": []
    },
    {
      "cell_type": "code",
      "metadata": {
        "id": "E16x82MiVJgF"
      },
      "source": [
        "xdata_f['label'] = pd.DataFrame(ytraind_df.T)"
      ],
      "execution_count": 6,
      "outputs": []
    },
    {
      "cell_type": "code",
      "metadata": {
        "id": "CGUHxSghWbYD"
      },
      "source": [
        "dataclass_0 = xdata_f.loc[xdata_f['label']== 0]\r\n",
        "dataclass_1 = xdata_f.loc[xdata_f['label']== 1]"
      ],
      "execution_count": 7,
      "outputs": []
    },
    {
      "cell_type": "code",
      "metadata": {
        "id": "hGTm3S2rPSEG"
      },
      "source": [
        "means_class0 = [0,0]\r\n",
        "means_class1 = [0,0]\r\n",
        "vars_class0 = [0,0]\r\n",
        "vars_class1 = [0,0]"
      ],
      "execution_count": 8,
      "outputs": []
    },
    {
      "cell_type": "code",
      "metadata": {
        "id": "p-xgiFCTR3OS"
      },
      "source": [
        "#computing means for class 0 and 1\r\n",
        "means_class0[0] = dataclass_0['mean'].mean()\r\n",
        "means_class0[1] = dataclass_0['std'].mean()\r\n",
        "means_class1[0] = dataclass_1['mean'].mean()\r\n",
        "means_class1[1] = dataclass_1['std'].mean()"
      ],
      "execution_count": 9,
      "outputs": []
    },
    {
      "cell_type": "code",
      "metadata": {
        "id": "JX7juxk3Wx8i"
      },
      "source": [
        "#computing variance for class 0 and 1\r\n",
        "vars_class0[0] = dataclass_0['mean'].var()\r\n",
        "vars_class0[1] = dataclass_0['std'].var()\r\n",
        "vars_class1[0] = dataclass_1['mean'].var()\r\n",
        "vars_class1[1] = dataclass_1['std'].var()"
      ],
      "execution_count": 10,
      "outputs": []
    },
    {
      "cell_type": "code",
      "metadata": {
        "id": "sCavkP4RX7uW"
      },
      "source": [
        "#initialising prior probabilities\r\n",
        "prior_prob0 = 0.5\r\n",
        "prior_prob1 = 0.5"
      ],
      "execution_count": 11,
      "outputs": []
    },
    {
      "cell_type": "code",
      "metadata": {
        "id": "2YBCkwBlYWb7"
      },
      "source": [
        "#defining pdf\r\n",
        "def pdf(x , mean,var):\r\n",
        "    e = -0.5*((x - mean)** 2 / var)\r\n",
        "    return (1.0 / (math.sqrt(2*math.pi*var)) * math.exp(e))"
      ],
      "execution_count": 12,
      "outputs": []
    },
    {
      "cell_type": "code",
      "metadata": {
        "id": "sYWz8oSFMobG"
      },
      "source": [
        "#calculating prediction data frame and class probabilities\r\n",
        "pred_df = pd.DataFrame(columns = ['Prediction_label'])\r\n",
        "for i in range(xdata_f.shape[0]):\r\n",
        "    prob_class0 = pdf(xdata_f['mean'][i],means_class0[0],vars_class0[0])*pdf(xdata_f['std'][i],means_class0[1],vars_class0[1])*prior_prob0\r\n",
        "    prob_class1 = pdf(xdata_f['mean'][i],means_class1[0],vars_class1[0])*pdf(xdata_f['std'][i],means_class1[1],vars_class1[1])*prior_prob1\r\n",
        "    \r\n",
        "    if prob_class0 > prob_class1:\r\n",
        "        pred_df.loc[i, 'Prediction_label'] = 0.0\r\n",
        "    else:\r\n",
        "        pred_df.loc[i, 'Prediction_label'] = 1.0"
      ],
      "execution_count": 13,
      "outputs": []
    },
    {
      "cell_type": "code",
      "metadata": {
        "id": "8anEyF8aZKUl"
      },
      "source": [
        "pred_df['Prediction_label']= pred_df.Prediction_label.astype(float)"
      ],
      "execution_count": 15,
      "outputs": []
    },
    {
      "cell_type": "code",
      "metadata": {
        "colab": {
          "base_uri": "https://localhost:8080/"
        },
        "id": "LYMzS8cNZvh1",
        "outputId": "c9ac914e-0e52-4540-b6b0-dea074085af5"
      },
      "source": [
        "#accuracy score for train data\r\n",
        "accuracy_score(xdata_f['label'], pred_df['Prediction_label'])*100"
      ],
      "execution_count": 16,
      "outputs": [
        {
          "output_type": "execute_result",
          "data": {
            "text/plain": [
              "82.38333333333333"
            ]
          },
          "metadata": {
            "tags": []
          },
          "execution_count": 16
        }
      ]
    },
    {
      "cell_type": "code",
      "metadata": {
        "colab": {
          "base_uri": "https://localhost:8080/"
        },
        "id": "VpalIqZiZvuV",
        "outputId": "ebf36c4c-3cfa-47fe-d5cc-efff64a798d9"
      },
      "source": [
        "confusion_matrix(xdata_f['label'], pred_df['Prediction_label'])\r\n"
      ],
      "execution_count": 17,
      "outputs": [
        {
          "output_type": "execute_result",
          "data": {
            "text/plain": [
              "array([[4520, 1480],\n",
              "       [ 634, 5366]])"
            ]
          },
          "metadata": {
            "tags": []
          },
          "execution_count": 17
        }
      ]
    },
    {
      "cell_type": "code",
      "metadata": {
        "colab": {
          "base_uri": "https://localhost:8080/"
        },
        "id": "Z_i_b11wZv1z",
        "outputId": "91ab17bc-d348-4508-97e3-e7dc9e5bda88"
      },
      "source": [
        "#proof\r\n",
        "(5366+4520)/(1480+634+5366+4520)"
      ],
      "execution_count": 18,
      "outputs": [
        {
          "output_type": "execute_result",
          "data": {
            "text/plain": [
              "0.8238333333333333"
            ]
          },
          "metadata": {
            "tags": []
          },
          "execution_count": 18
        }
      ]
    },
    {
      "cell_type": "code",
      "metadata": {
        "id": "lhh74RJdZv-M"
      },
      "source": [
        "#loading test data\r\n",
        "X_test = data['tsX']\r\n",
        "Y_test = data['tsY']"
      ],
      "execution_count": 19,
      "outputs": []
    },
    {
      "cell_type": "code",
      "metadata": {
        "id": "N9iKLg9zaaIm"
      },
      "source": [
        "x_test_df = pd.DataFrame(X_test)"
      ],
      "execution_count": 20,
      "outputs": []
    },
    {
      "cell_type": "code",
      "metadata": {
        "id": "_H4cGpALaaSt"
      },
      "source": [
        "#computing mean and standard deviation\r\n",
        "xdata2 = {'mean': x_test_df.mean(axis=1), 'std' : x_test_df.std(axis=1)}\r\n",
        "x_testdata_f= pd.DataFrame(xdata2)"
      ],
      "execution_count": 21,
      "outputs": []
    },
    {
      "cell_type": "code",
      "metadata": {
        "id": "4dyBN3fOaaYs"
      },
      "source": [
        "Y_testdata_df = pd.DataFrame(Y_test)\r\n",
        "x_testdata_f['label'] = pd.DataFrame(Y_testdata_df.T)"
      ],
      "execution_count": 22,
      "outputs": []
    },
    {
      "cell_type": "code",
      "metadata": {
        "id": "iXC_Vmy9bnLU"
      },
      "source": [
        "#calculating test data prediction frame and class probabilities\r\n",
        "test_pred_df = pd.DataFrame(columns = ['Prediction_label'])\r\n",
        "for i in range(x_testdata_f.shape[0]):\r\n",
        "    prob_class0 = pdf(x_testdata_f['mean'][i],means_class0[0],vars_class0[0])*pdf(x_testdata_f['std'][i],means_class0[1],vars_class0[1])*prior_prob0\r\n",
        "    prob_class1 = pdf(x_testdata_f['mean'][i],means_class1[0],vars_class1[0])*pdf(x_testdata_f['std'][i],means_class1[1],vars_class1[1])*prior_prob1\r\n",
        "    \r\n",
        "    if prob_class0 > prob_class1:\r\n",
        "        test_pred_df.loc[i, 'Prediction_label'] = 0.0\r\n",
        "    else:\r\n",
        "        test_pred_df.loc[i, 'Prediction_label'] = 1.0"
      ],
      "execution_count": 23,
      "outputs": []
    },
    {
      "cell_type": "code",
      "metadata": {
        "id": "Rz4k9lZmco9a"
      },
      "source": [
        "test_pred_df['Prediction_label']= test_pred_df.Prediction_label.astype(float)\r\n"
      ],
      "execution_count": 24,
      "outputs": []
    },
    {
      "cell_type": "code",
      "metadata": {
        "colab": {
          "base_uri": "https://localhost:8080/"
        },
        "id": "pTanotadcpFd",
        "outputId": "fbcc7f68-dcf9-4527-9a6d-463ae06e8391"
      },
      "source": [
        "#accuracy% for test data\r\n",
        "accuracy_score(x_testdata_f['label'], test_pred_df['Prediction_label'])*100"
      ],
      "execution_count": 25,
      "outputs": [
        {
          "output_type": "execute_result",
          "data": {
            "text/plain": [
              "83.15"
            ]
          },
          "metadata": {
            "tags": []
          },
          "execution_count": 25
        }
      ]
    },
    {
      "cell_type": "code",
      "metadata": {
        "colab": {
          "base_uri": "https://localhost:8080/"
        },
        "id": "g4dHc1bzc3Mu",
        "outputId": "4ef704d5-577a-467d-c6ca-16ee4efb9e07"
      },
      "source": [
        "confusion_matrix(x_testdata_f['label'], test_pred_df['Prediction_label'])"
      ],
      "execution_count": 26,
      "outputs": [
        {
          "output_type": "execute_result",
          "data": {
            "text/plain": [
              "array([[784, 216],\n",
              "       [121, 879]])"
            ]
          },
          "metadata": {
            "tags": []
          },
          "execution_count": 26
        }
      ]
    },
    {
      "cell_type": "markdown",
      "metadata": {
        "id": "Obq0aeFFmqT-"
      },
      "source": [
        "LOGISTIC REGRESSION"
      ]
    },
    {
      "cell_type": "code",
      "metadata": {
        "id": "xG8VLwUBm1Mo"
      },
      "source": [
        "#initialising weights, bias\r\n",
        "#lr = learning rate, no_itr=number of iterations\r\n",
        "def train_data( x, y, lr, no_itr ):\r\n",
        "    weights = np.zeros(x.shape[1])\r\n",
        "    bias = 0\r\n",
        "    #computing sigmoid\r\n",
        "    for i in range(no_itr):\r\n",
        "      y_pred = np.dot(weights,x.T) + bias\r\n",
        "      y_pred = 1/(1 + np.exp(-y_pred))\r\n",
        "\r\n",
        "      prediction_error = y-y_pred\r\n",
        "      d = np.average(prediction_error*x.T,1)\r\n",
        "\r\n",
        "      #weights update\r\n",
        "      weights = weights + d*lr\r\n",
        "\r\n",
        "      #computing cost function\r\n",
        "      log_likelihood = np.sum(y * np.log(y_pred) + (1 - y) * np.log(1 - y_pred))\r\n",
        "\r\n",
        "      #updating bias\r\n",
        "      bias  = bias + np.average(prediction_error)\r\n",
        "    return weights,bias \r\n"
      ],
      "execution_count": 27,
      "outputs": []
    },
    {
      "cell_type": "code",
      "metadata": {
        "id": "vrWVkx6-m1I4"
      },
      "source": [
        "#prediction function\r\n",
        "def prediction(xv, wt, bias):\r\n",
        "  y_pred = np.dot(wt,xv.T) + bias\r\n",
        "  y_pred[np.where(y_pred>=0.5)]=1\r\n",
        "  y_pred[np.where(y_pred<0.5)]=0\r\n",
        "  return y_pred"
      ],
      "execution_count": 28,
      "outputs": []
    },
    {
      "cell_type": "code",
      "metadata": {
        "id": "bLMqHzXNm1FC"
      },
      "source": [
        "#calculating accuracy\r\n",
        "def accuracy_calc(y_pred, y_given):\r\n",
        "  x = y_pred == y_given\r\n",
        "  acc = (np.sum(x)/y_pred.shape[0]) * 100    \r\n",
        "  return acc"
      ],
      "execution_count": 29,
      "outputs": []
    },
    {
      "cell_type": "code",
      "metadata": {
        "id": "9MZw6omXm1BA"
      },
      "source": [
        "#train data\r\n",
        "x_train_w = xdata_f[['mean','std']]\r\n",
        "x_test_w = x_testdata_f[['mean','std']]"
      ],
      "execution_count": 30,
      "outputs": []
    },
    {
      "cell_type": "code",
      "metadata": {
        "id": "FUZMIIdam08o"
      },
      "source": [
        "#calculating accuracy\r\n",
        "weights,bias = train_data(x_train_w.to_numpy(), ytraind_df.to_numpy(), 1.5, 9000)\r\n",
        "prediction_classes = prediction(x_test_w.to_numpy(),weights,bias)\r\n",
        "print(accuracy_calc(prediction_classes,Y_testdata_df.to_numpy() ))"
      ],
      "execution_count": null,
      "outputs": []
    }
  ]
}